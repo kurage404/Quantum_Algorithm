{
  "nbformat": 4,
  "nbformat_minor": 0,
  "metadata": {
    "colab": {
      "name": "My_Grover_Alg.ipynb",
      "provenance": [],
      "collapsed_sections": [],
      "toc_visible": true,
      "include_colab_link": true
    },
    "kernelspec": {
      "name": "python3",
      "display_name": "Python 3"
    },
    "language_info": {
      "name": "python"
    },
    "accelerator": "GPU"
  },
  "cells": [
    {
      "cell_type": "markdown",
      "metadata": {
        "id": "view-in-github",
        "colab_type": "text"
      },
      "source": [
        "<a href=\"https://colab.research.google.com/github/kurage404/Quantum_Algorithm/blob/main/My_Grover_Alg.ipynb\" target=\"_parent\"><img src=\"https://colab.research.google.com/assets/colab-badge.svg\" alt=\"Open In Colab\"/></a>"
      ]
    },
    {
      "cell_type": "markdown",
      "metadata": {
        "id": "BjFu1u9jLMyY"
      },
      "source": [
        "# Groverのアルゴリズムをフルスクラッチで書いてみた"
      ]
    },
    {
      "cell_type": "markdown",
      "metadata": {
        "id": "r_qcYmNRVgo3"
      },
      "source": [
        "タイトル通り、グローバーのアルゴリズムを実装してみました、という感じです。  \n",
        "筆者は、量子計算も、なんなら大学数学も初心者なので、  \n",
        "間違っている、または見にくい箇所があるかもしれません。  \n",
        "\n",
        "コードもお世辞にも読みやすいとは言えませんが、\n",
        "それでも何かの役に立てれば幸いです。  "
      ]
    },
    {
      "cell_type": "markdown",
      "metadata": {
        "id": "ogTrM_HUxfMy"
      },
      "source": [
        "参考：  \n",
        "https://dojo.qulacs.org/ja/latest/notebooks/8.2_Grovers_algorithm.html  \n",
        "https://qiskit.org/textbook/ja/ch-algorithms/grover.html  \n",
        "原論文：  \n",
        "https://arxiv.org/pdf/quant-ph/9605043.pdf"
      ]
    },
    {
      "cell_type": "markdown",
      "metadata": {
        "id": "xkhifOIhL9-O"
      },
      "source": [
        "## <font color= \"#5e5\">環境構築のあれこれ</font>\n",
        "このGoogle Colab上で動作させるために必要なものをインストールします。"
      ]
    },
    {
      "cell_type": "markdown",
      "metadata": {
        "id": "DE_RrAlWgBrt"
      },
      "source": [
        "この実装では、QulacsというPythonの疑似量子ゲートシュミレーターを主に利用しています。"
      ]
    },
    {
      "cell_type": "code",
      "metadata": {
        "colab": {
          "base_uri": "https://localhost:8080/"
        },
        "id": "WdPLi_klLeZA",
        "outputId": "2962bb6b-a965-4bfc-c49b-8c56e5625b36"
      },
      "source": [
        "### 環境構築 ###\n",
        "## Qulacsのインストール\n",
        "!pip install qulacs\n",
        "## Qulacsのエラーが正常に出力されるようになります。\n",
        "!pip3 install wurlitzer\n",
        "%load_ext wurlitzer\n",
        "## ライブラリのインポート\n",
        "import matplotlib.pyplot as plt\n",
        "import numpy as np\n",
        "import time \n",
        "import random\n",
        "from qulacs import QuantumState\n",
        "from qulacs.state import inner_product\n",
        "from qulacs import QuantumCircuit\n",
        "from qulacs.gate import to_matrix_gate\n",
        "from qulacs import QuantumState\n",
        "from qulacs.gate import Identity, X,Y,Z #パウリ演算子\n",
        "from qulacs.gate import H #アダマールゲート\n",
        "from qulacs.gate import RX,RY,RZ #パウリ演算子についての回転演算"
      ],
      "execution_count": 1,
      "outputs": [
        {
          "output_type": "stream",
          "name": "stdout",
          "text": [
            "Collecting qulacs\n",
            "  Downloading Qulacs-0.3.0-cp37-cp37m-manylinux_2_12_x86_64.manylinux2010_x86_64.whl (451 kB)\n",
            "\u001b[?25l\r\u001b[K     |▊                               | 10 kB 20.5 MB/s eta 0:00:01\r\u001b[K     |█▌                              | 20 kB 8.5 MB/s eta 0:00:01\r\u001b[K     |██▏                             | 30 kB 7.6 MB/s eta 0:00:01\r\u001b[K     |███                             | 40 kB 7.2 MB/s eta 0:00:01\r\u001b[K     |███▋                            | 51 kB 5.1 MB/s eta 0:00:01\r\u001b[K     |████▍                           | 61 kB 5.6 MB/s eta 0:00:01\r\u001b[K     |█████                           | 71 kB 6.0 MB/s eta 0:00:01\r\u001b[K     |█████▉                          | 81 kB 5.5 MB/s eta 0:00:01\r\u001b[K     |██████▌                         | 92 kB 4.9 MB/s eta 0:00:01\r\u001b[K     |███████▎                        | 102 kB 5.4 MB/s eta 0:00:01\r\u001b[K     |████████                        | 112 kB 5.4 MB/s eta 0:00:01\r\u001b[K     |████████▊                       | 122 kB 5.4 MB/s eta 0:00:01\r\u001b[K     |█████████▍                      | 133 kB 5.4 MB/s eta 0:00:01\r\u001b[K     |██████████▏                     | 143 kB 5.4 MB/s eta 0:00:01\r\u001b[K     |██████████▉                     | 153 kB 5.4 MB/s eta 0:00:01\r\u001b[K     |███████████▋                    | 163 kB 5.4 MB/s eta 0:00:01\r\u001b[K     |████████████▎                   | 174 kB 5.4 MB/s eta 0:00:01\r\u001b[K     |█████████████                   | 184 kB 5.4 MB/s eta 0:00:01\r\u001b[K     |█████████████▉                  | 194 kB 5.4 MB/s eta 0:00:01\r\u001b[K     |██████████████▌                 | 204 kB 5.4 MB/s eta 0:00:01\r\u001b[K     |███████████████▎                | 215 kB 5.4 MB/s eta 0:00:01\r\u001b[K     |████████████████                | 225 kB 5.4 MB/s eta 0:00:01\r\u001b[K     |████████████████▊               | 235 kB 5.4 MB/s eta 0:00:01\r\u001b[K     |█████████████████▍              | 245 kB 5.4 MB/s eta 0:00:01\r\u001b[K     |██████████████████▏             | 256 kB 5.4 MB/s eta 0:00:01\r\u001b[K     |██████████████████▉             | 266 kB 5.4 MB/s eta 0:00:01\r\u001b[K     |███████████████████▋            | 276 kB 5.4 MB/s eta 0:00:01\r\u001b[K     |████████████████████▎           | 286 kB 5.4 MB/s eta 0:00:01\r\u001b[K     |█████████████████████           | 296 kB 5.4 MB/s eta 0:00:01\r\u001b[K     |█████████████████████▊          | 307 kB 5.4 MB/s eta 0:00:01\r\u001b[K     |██████████████████████▌         | 317 kB 5.4 MB/s eta 0:00:01\r\u001b[K     |███████████████████████▏        | 327 kB 5.4 MB/s eta 0:00:01\r\u001b[K     |████████████████████████        | 337 kB 5.4 MB/s eta 0:00:01\r\u001b[K     |████████████████████████▋       | 348 kB 5.4 MB/s eta 0:00:01\r\u001b[K     |█████████████████████████▍      | 358 kB 5.4 MB/s eta 0:00:01\r\u001b[K     |██████████████████████████      | 368 kB 5.4 MB/s eta 0:00:01\r\u001b[K     |██████████████████████████▉     | 378 kB 5.4 MB/s eta 0:00:01\r\u001b[K     |███████████████████████████▋    | 389 kB 5.4 MB/s eta 0:00:01\r\u001b[K     |████████████████████████████▎   | 399 kB 5.4 MB/s eta 0:00:01\r\u001b[K     |█████████████████████████████   | 409 kB 5.4 MB/s eta 0:00:01\r\u001b[K     |█████████████████████████████▊  | 419 kB 5.4 MB/s eta 0:00:01\r\u001b[K     |██████████████████████████████▌ | 430 kB 5.4 MB/s eta 0:00:01\r\u001b[K     |███████████████████████████████▏| 440 kB 5.4 MB/s eta 0:00:01\r\u001b[K     |████████████████████████████████| 450 kB 5.4 MB/s eta 0:00:01\r\u001b[K     |████████████████████████████████| 451 kB 5.4 MB/s \n",
            "\u001b[?25hInstalling collected packages: qulacs\n",
            "Successfully installed qulacs-0.3.0\n",
            "Collecting wurlitzer\n",
            "  Downloading wurlitzer-3.0.2-py3-none-any.whl (7.3 kB)\n",
            "Installing collected packages: wurlitzer\n",
            "Successfully installed wurlitzer-3.0.2\n"
          ]
        }
      ]
    },
    {
      "cell_type": "markdown",
      "metadata": {
        "id": "hupmAeeBHVZB"
      },
      "source": [
        "<font color= \"#5e5\">\n",
        "----------------------------------------------------------------------------------------------------------------------------------------------------------------\n",
        "</font>"
      ]
    },
    {
      "cell_type": "markdown",
      "metadata": {
        "id": "jAulUK0ySjTs"
      },
      "source": [
        "## <font color= \"#5e5\">各関数定義</font>\n",
        "グローバーのアルゴリズムに必要な処理を関数として定義します。"
      ]
    },
    {
      "cell_type": "markdown",
      "metadata": {
        "id": "2w0zSXYSU34T"
      },
      "source": [
        "以下は定義する関数のリストです。\n",
        "*   初期化・初期状態設定\n",
        "*   ゲート作用関数\n",
        "*   オラクル U_w 作用\n",
        "*   反転 U_s 作用\n",
        "*   グラフへプロット(可視化)\n",
        "*   なんちゃってAES\n",
        "*   暗号鍵・平文設定\n",
        "*   暗号鍵最適化\n",
        "*   文字列変換"
      ]
    },
    {
      "cell_type": "markdown",
      "metadata": {
        "id": "osyDziwkXoc7"
      },
      "source": [
        "### <font color= \"#99f\">初期状態・評価用設定(quantum_(ans_)setup)</font>\n",
        "初期状態と内積を評価するために必要な処理に関する関数です。"
      ]
    },
    {
      "cell_type": "markdown",
      "metadata": {
        "id": "cOVAy1t7YIyZ"
      },
      "source": [
        "quantum_setup()は、nqubit個の量子状態を生成し、0で初期化します。  \n",
        "\n",
        "quantum_ans_setup()は、内積評価のための処理です。"
      ]
    },
    {
      "cell_type": "code",
      "metadata": {
        "id": "o9kKTTngSizM"
      },
      "source": [
        "### 初期化・初期状態設定 ###\n",
        "def quantum_setup(nqubits):\n",
        "    ## QuantumState()でnqubit個の量子状態を生成\n",
        "    ## set_zero_stateで|00...0>に初期化\n",
        "    state = QuantumState(nqubits)\n",
        "    state.set_zero_state()\n",
        "\n",
        "    return state\n",
        "    \n",
        "def quantum_ans_setup(nqubits, bitint):\n",
        "    ## 内積評価のために準備する処理\n",
        "    answer_state = QuantumState(nqubits)\n",
        "    answer_state.set_computational_basis(bitint)\n",
        "\n",
        "    return answer_state"
      ],
      "execution_count": 2,
      "outputs": []
    },
    {
      "cell_type": "markdown",
      "metadata": {
        "id": "ZiWKY4lJTyLI"
      },
      "source": [
        "<font color= \"#99f\">\n",
        "----------------------------------------------------------------------------------------------------------------------------------------------------------------\n",
        "</font>"
      ]
    },
    {
      "cell_type": "markdown",
      "metadata": {
        "id": "JY-_rl9XQwnS"
      },
      "source": [
        "### <font color= \"#99f\">各ゲート作用(.*_gate)</font>\n",
        "H(アダマール)ゲートとCZゲートを作用するための関数です。"
      ]
    },
    {
      "cell_type": "markdown",
      "metadata": {
        "id": "OqCa05mTQwnZ"
      },
      "source": [
        "H(アダマール)ゲートは、量子を重ね合わせの状態にするゲートです。  \n",
        "\n",
        "CZゲートはコントロールビットが1の時にターゲットビットにZゲートを適用するゲートです。"
      ]
    },
    {
      "cell_type": "code",
      "metadata": {
        "id": "2hRUZb2wQwnZ"
      },
      "source": [
        "### ゲート作用関数 ###\n",
        "def h_gate(nqubits, Hadamard=0):\n",
        "    ## H(アダマール)ゲート\n",
        "    for i in range(nqubits):\n",
        "        Hadamard.add_gate(H(i))\n",
        "    return Hadamard\n",
        "\n",
        "def cz_gate(nqubits, s=0, bitlist=[0]):\n",
        "    ## CZゲート\n",
        "    if(bitlist == [0]):\n",
        "        bitlist = [0] * nqubits\n",
        "    CZ = to_matrix_gate(Z(nqubits-1-s)) \n",
        "    for i in range(nqubits-1):\n",
        "        control_index = i\n",
        "        control_with_value = bitlist[i]\n",
        "        CZ.add_control_qubit(control_index, control_with_value)\n",
        "    return CZ"
      ],
      "execution_count": 3,
      "outputs": []
    },
    {
      "cell_type": "markdown",
      "metadata": {
        "id": "3r00Y0obQwna"
      },
      "source": [
        "<font color= \"#99f\">\n",
        "----------------------------------------------------------------------------------------------------------------------------------------------------------------\n",
        "</font>"
      ]
    },
    {
      "cell_type": "markdown",
      "metadata": {
        "id": "iPlg3jrPYCdW"
      },
      "source": [
        "### <font color= \"#99f\">オラクル U_w 作用(take_U_w)</font>\n",
        "オラクル U_w 作用に関する関数です。"
      ]
    },
    {
      "cell_type": "markdown",
      "metadata": {
        "id": "8e9BoOfBYKJi"
      },
      "source": [
        "オラクル(神の啓示)です。答えかどうかがわかります。  \n",
        "正確には解であるものを反転します。"
      ]
    },
    {
      "cell_type": "code",
      "metadata": {
        "id": "kpvpuOTvKwwR"
      },
      "source": [
        "### オラクル U_w 作用 ###\n",
        "def take_U_w(nqubits,s,bitlist):\n",
        "    ## \n",
        "    U_w = QuantumCircuit(nqubits)\n",
        "    CZ = cz_gate(nqubits, s, bitlist)\n",
        "    U_w.add_gate(CZ)\n",
        "    return U_w"
      ],
      "execution_count": 4,
      "outputs": []
    },
    {
      "cell_type": "markdown",
      "metadata": {
        "id": "VFHX8y-hTbGv"
      },
      "source": [
        "#### コラム：qubitとbit"
      ]
    },
    {
      "cell_type": "markdown",
      "metadata": {
        "id": "NCpQlSW1n6l1"
      },
      "source": [
        "---  \n",
        "bit は右側が小さくて、左側が大きい。  \n",
        "例：  \n",
        "　　2進数 1010 = 1×8 + 0×4 + 1×2 + 0×1 = 9\n",
        "\n",
        "対してqubitは左側が小さくて、右側が大きい。  \n",
        "例：  \n",
        "　　\\|1010\\> = 0101 =  0×8 + 1×4 + 0×2 + 1×1 = 5\n",
        "  \n",
        "これらの違いから、添え字に注意しなければならない。  \n",
        "Qlacsはqubitに、bitと同じように左から0とついているが、  \n",
        "ゲートシュミレーターによっては右からのものもあるので、気をつけましょう。  \n",
        "また、qubitとbitで大きさを比較するときとかも、実装に注意が必要かも?(1敗)\n",
        "\n",
        "---"
      ]
    },
    {
      "cell_type": "markdown",
      "metadata": {
        "id": "tTZCrtNhHhox"
      },
      "source": [
        "<font color= \"#99f\">\n",
        "----------------------------------------------------------------------------------------------------------------------------------------------------------------\n",
        "</font>"
      ]
    },
    {
      "cell_type": "markdown",
      "metadata": {
        "id": "07gmwSEYYCm9"
      },
      "source": [
        "### <font color= \"#99f\">反転 U_s 作用(take_U_s)</font>\n",
        "反転 U_s 作用に関する関数です。"
      ]
    },
    {
      "cell_type": "markdown",
      "metadata": {
        "id": "xJzrwx9hasgD"
      },
      "source": [
        "U_wでは、解を反転しましたが、今度は全体を反転します。"
      ]
    },
    {
      "cell_type": "code",
      "metadata": {
        "id": "VG_VN0c7YGXr"
      },
      "source": [
        "### 反転 U_s 作用 ###\n",
        "def take_U_s(nqubits):\n",
        "    U_s = QuantumCircuit(nqubits)\n",
        "    U_s = h_gate(nqubits,U_s)\n",
        "    ## 2|0><0| - I の実装\n",
        "    U_s.add_gate(to_matrix_gate(RZ(nqubits-1, 2*np.pi))) # 位相(-1)を全ての状態に付与\n",
        "    U_s.add_gate( X(nqubits-1) )\n",
        "    ## 全てのi-th qubitが0の場合だけZゲートを作用させる\n",
        "    CZ = cz_gate(nqubits)\n",
        "    U_s.add_gate(CZ)\n",
        "    U_s.add_gate(X(nqubits-1)) \n",
        "    U_s = h_gate(nqubits,U_s)\n",
        "    return U_s"
      ],
      "execution_count": 5,
      "outputs": []
    },
    {
      "cell_type": "markdown",
      "metadata": {
        "id": "iODo12cbHlNx"
      },
      "source": [
        "<font color= \"#99f\">\n",
        "----------------------------------------------------------------------------------------------------------------------------------------------------------------\n",
        "</font>"
      ]
    },
    {
      "cell_type": "markdown",
      "metadata": {
        "id": "S4MtQpERYC4O"
      },
      "source": [
        "### <font color= \"#99f\">グラフへプロット(可視化)(show_distribution)</font>\n",
        "グラフへプロット(可視化)するための関数です。"
      ]
    },
    {
      "cell_type": "markdown",
      "metadata": {
        "id": "08o2MfpLa23C"
      },
      "source": [
        "視覚的にわかりやすくするために、グラフで表示します。"
      ]
    },
    {
      "cell_type": "code",
      "metadata": {
        "id": "n_ldGhAMYHzD"
      },
      "source": [
        "## 係数の絶対値の分布をプロットする関数\n",
        "def show_distribution(state,nqubits):\n",
        "    plt.bar([i for i in range(pow(2,nqubits))], abs(state.get_vector()))\n",
        "    plt.show()"
      ],
      "execution_count": 6,
      "outputs": []
    },
    {
      "cell_type": "markdown",
      "metadata": {
        "id": "bxp1XK-THmXJ"
      },
      "source": [
        "<font color= \"#99f\">\n",
        "----------------------------------------------------------------------------------------------------------------------------------------------------------------\n",
        "</font>"
      ]
    },
    {
      "cell_type": "markdown",
      "metadata": {
        "id": "T_cZV48mEfYe"
      },
      "source": [
        "### <font color= \"#99f\">なんちゃってAES(quasi_aes)</font>\n",
        "なんちゃってAESの関数です。"
      ]
    },
    {
      "cell_type": "markdown",
      "metadata": {
        "id": "KOBjC3d8EfYm"
      },
      "source": [
        "なんちゃってなのでかなり適当に実装してますが、\n",
        "いつか時間のある時にでも直したいですね...\n",
        "\n",
        "AES暗号というのは一般的に\n",
        "- sub_bytes\n",
        "- shift_rows\n",
        "- mix_columns\n",
        "- add_round_key\n",
        "\n",
        "という４つの暗号/復号化処理をします。  \n",
        "AESの暗号鍵は 128,182,256 bitのいずれかとしていますが、  \n",
        "このプログラムは(なんちゃってなので)鍵長を特に定めずに、  \n",
        "足りない分はループして使ってます。  \n"
      ]
    },
    {
      "cell_type": "code",
      "metadata": {
        "id": "u_l41uOBEfYm"
      },
      "source": [
        "### なんちゃってAES ###\n",
        "def quasi_aes(message, direction, key):\n",
        "    if (direction == 0):\n",
        "        ## 暗号化\n",
        "        message = sub_bytes(message, direction)\n",
        "        message = shift_rows(message, direction)\n",
        "        message = mix_columns(message, direction)\n",
        "        message = add_round_key(message, key)\n",
        "        crypto_message = message\n",
        "    elif (direction == 1):\n",
        "        ## 復号化\n",
        "        message = add_round_key(message, key)\n",
        "        message = mix_columns(message, direction)\n",
        "        message = shift_rows(message, direction)\n",
        "        message = sub_bytes(message, direction)\n",
        "        crypto_message = message\n",
        "    else:\n",
        "        crypto_message = message\n",
        "\n",
        "    return crypto_message\n",
        "\n",
        "def sub_bytes(message, direction):\n",
        "    ## 換字表（Sボックス）による１バイト単位の置換。\n",
        "    ## なんちゃってなので割愛(そのまま返す)\n",
        "    return message\n",
        "\n",
        "def shift_rows(message, direction):\n",
        "    ## 1文字単位の行を一定規則でシフトする。\n",
        "    c = 0\n",
        "    if direction==0:\n",
        "        mbit = []\n",
        "        for i in message:\n",
        "            mbit.append(format(ord(i),'08b'))\n",
        "            bits = mbit[c]\n",
        "            mbit[c] = bits[1:len(bits)] + bits[:1]\n",
        "            c += 1\n",
        "    elif direction==1:\n",
        "        mbit = message\n",
        "        for i in message:\n",
        "            bits = mbit[c]\n",
        "            mbit[c] = bits[len(bits)-1:] + bits[0:len(bits)-1]\n",
        "            c += 1\n",
        "    else:\n",
        "        mbit = message\n",
        "            \n",
        "    return mbit\n",
        "\n",
        "\n",
        "def mix_columns(message, direction):\n",
        "    ## ビット演算による１文字単位の行列変換。\n",
        "    ## 反転処理(0 <=> max, 1 <=> max-1, 2 <=> max-2, ...)\n",
        "    if direction==0:\n",
        "        message.reverse()\n",
        "    elif direction==1:\n",
        "        message.reverse()\n",
        "\n",
        "    return message\n",
        "\n",
        "\n",
        "def add_round_key(mbit, key):\n",
        "    ## ラウンド鍵とのXORをとる。\n",
        "    c = 0\n",
        "    mbitlen = []\n",
        "    for i in message:\n",
        "        mbitlen.append(len(mbit[c]))\n",
        "        c += 1\n",
        "    mbit = ''.join(mbit)\n",
        "    c = 0\n",
        "    result = []\n",
        "    for i in mbit:\n",
        "        result.append(xor(int(i),int(key[c%len(key)])))\n",
        "        c += 1\n",
        "    mbit = []\n",
        "    c=0\n",
        "    for i in range(len(mbitlen)):\n",
        "        mbit.append(''.join(result[c:c+mbitlen[i]]))\n",
        "        c = c + mbitlen[i]\n",
        "\n",
        "    return mbit\n",
        "\n",
        "## xorの演算を行います\n",
        "def xor(a,b):\n",
        "    if bool(a) != bool(b):\n",
        "        return '1'\n",
        "    else:\n",
        "        return '0'\n"
      ],
      "execution_count": 7,
      "outputs": []
    },
    {
      "cell_type": "markdown",
      "metadata": {
        "id": "dquRv5A_Hn0x"
      },
      "source": [
        "<font color= \"#99f\">\n",
        "----------------------------------------------------------------------------------------------------------------------------------------------------------------\n",
        "</font>"
      ]
    },
    {
      "cell_type": "markdown",
      "metadata": {
        "id": "U8Q7kLD-Egkd"
      },
      "source": [
        "### <font color= \"#99f\">暗号鍵・平文設定(get_crypto_setting)</font>\n",
        "暗号鍵や平文を設定するための関数です。"
      ]
    },
    {
      "cell_type": "markdown",
      "metadata": {
        "id": "-vWsoQfeEgkd"
      },
      "source": [
        "暗号を2進数にしたり、平文を返します。"
      ]
    },
    {
      "cell_type": "code",
      "metadata": {
        "id": "RqfuXvF6Egkd"
      },
      "source": [
        "### 暗号鍵(password)・平文(message)設定 ###\n",
        "def get_crypto_setting(password):\n",
        "    ## 平文を変えたい場合は、下の\"(ダブルカンマで囲まれた文字列)\"を書き換えてください\n",
        "    message = \"「平文」が欲しいか？欲しけれりゃくれてやる。解いてみろ。この世の<はじまり>をそこに置いてきた。 by Mr.グローバー\"\n",
        "    ## パスワードの文字列を2進数に変換\n",
        "    passbit = []\n",
        "    passlen = []\n",
        "    c = 0\n",
        "    for i in password:\n",
        "        passbit.append(format(ord(i),'08b'))\n",
        "        passlen.append(len(passbit[c]))\n",
        "        c += 1\n",
        "    if(len(passbit)>1):\n",
        "        passbit = ''.join(passbit)\n",
        "    elif(len(passbit)==1):\n",
        "        passbit = passbit[0]\n",
        "    ## 変換した2進数と平文を渡す\n",
        "    return passbit,message,passlen"
      ],
      "execution_count": 8,
      "outputs": []
    },
    {
      "cell_type": "markdown",
      "metadata": {
        "id": "1RxPqxGzHo8Q"
      },
      "source": [
        "<font color= \"#99f\">\n",
        "----------------------------------------------------------------------------------------------------------------------------------------------------------------\n",
        "</font>"
      ]
    },
    {
      "cell_type": "markdown",
      "metadata": {
        "id": "Bt8O1evOqxI4"
      },
      "source": [
        "### <font color= \"#99f\">暗号鍵最適化(optimisation_key)</font>\n",
        "暗号鍵を最適化するための関数です。"
      ]
    },
    {
      "cell_type": "markdown",
      "metadata": {
        "id": "xYbaRD_wqxI_"
      },
      "source": [
        "U_w,U_sに渡すものを最適化します。"
      ]
    },
    {
      "cell_type": "code",
      "metadata": {
        "id": "eBxFrPyCqxJA"
      },
      "source": [
        "### 暗号鍵(password)・平文(message)設定 ###\n",
        "def optimisation_key(passbit):\n",
        "    nqubits = len(passbit)\n",
        "    bitint = int(passbit,2)\n",
        "    s = 0 \n",
        "    bitlist = [1] * nqubits\n",
        "    a = 1\n",
        "    l = 2**nqubits - bitint + 1\n",
        "    if (l >= ((2**(nqubits-1))-1)):\n",
        "        l = l - (2**(nqubits-1))\n",
        "        s = nqubits - 1\n",
        "    for i in range(nqubits-1,0,-1):\n",
        "        if (l >= 2**i):\n",
        "            l = l - 2**i\n",
        "            bitlist[i] = 0\n",
        "\n",
        "    return nqubits, bitlist, s, bitint "
      ],
      "execution_count": 9,
      "outputs": []
    },
    {
      "cell_type": "markdown",
      "metadata": {
        "id": "ereezFNDqxJA"
      },
      "source": [
        "<font color= \"#99f\">\n",
        "----------------------------------------------------------------------------------------------------------------------------------------------------------------\n",
        "</font>"
      ]
    },
    {
      "cell_type": "markdown",
      "metadata": {
        "id": "E6RBqACIs9TX"
      },
      "source": [
        "### <font color= \"#99f\">文字列変換(get_crypto_message)</font>\n",
        "bit列を文字列に変換します。"
      ]
    },
    {
      "cell_type": "code",
      "metadata": {
        "id": "NrZ4mi7Vsvpw"
      },
      "source": [
        "def get_crypto_message(crypto_bitmessage):\n",
        "    crypto_message = []\n",
        "    for i in crypto_bitmessage:\n",
        "        moji = '0b'+i\n",
        "        crypto_message.append(chr(int(moji, 2)))\n",
        "    crypto_message = ''.join(crypto_message)\n",
        "    return crypto_message"
      ],
      "execution_count": 10,
      "outputs": []
    },
    {
      "cell_type": "markdown",
      "metadata": {
        "id": "w9XemFNutBhA"
      },
      "source": [
        "<font color= \"#99f\">\n",
        "----------------------------------------------------------------------------------------------------------------------------------------------------------------\n",
        "</font>"
      ]
    },
    {
      "cell_type": "markdown",
      "metadata": {
        "id": "jnBkXrLNIRE0"
      },
      "source": [
        "<font color= \"#5e5\">\n",
        "----------------------------------------------------------------------------------------------------------------------------------------------------------------\n",
        "</font>"
      ]
    },
    {
      "cell_type": "markdown",
      "metadata": {
        "id": "1kKB--UtCRQh"
      },
      "source": [
        "## <font color= \"#5e5\">実行してみる</font>\n",
        "グローバーのアルゴリズムを実行し体験します。"
      ]
    },
    {
      "cell_type": "code",
      "metadata": {
        "colab": {
          "base_uri": "https://localhost:8080/",
          "height": 1000
        },
        "id": "W-GwsPu7DPmV",
        "outputId": "5c46ba4b-f72b-4ddc-c66b-95fc3e39e9a3"
      },
      "source": [
        "### 実行してみる ###\n",
        "####################################################\n",
        "## 好きな値をいれてください(passward は 8bit～16bit(2byteまで)ぐらいが推奨)\n",
        "password = \"L\"         # 一文字 8bit #\n",
        "####################################################\n",
        "\n",
        "## 暗号の設定を色々\n",
        "passbit,message,passlen = get_crypto_setting(password)\n",
        "## 暗号化処理\n",
        "crypto_bitmessage = quasi_aes(message, 0, passbit)\n",
        "# print(crypto_bitmessage)\n",
        "crypto_message = get_crypto_message(crypto_bitmessage)\n",
        "\n",
        "## 文字変換したときにビットが抜け落ちるのでcrypto_bitmessageを暗号文として運用\n",
        "## crypto_messageはおまけみたいな感じ\n",
        "\n",
        "## 設定を出力\n",
        "print(\"*\"*50)\n",
        "print(\"password: \\\"\" + password +\"\\\"\")\n",
        "print(\"message:　\\\"\" + message +\"\\\"\")\n",
        "print(\"password(bit):　\" + passbit)\n",
        "print(\"message(crypto): \\\"\" + crypto_message +\"\\\"\")\n",
        "print(\"*\"*50)\n",
        "\n",
        "## グローバーのアルゴリズムで探索するために色々\n",
        "## 初期設定とか\n",
        "nqubits, bitlist, s, bitint = optimisation_key(passbit)\n",
        "state = quantum_setup(nqubits)\n",
        "answer_state = quantum_ans_setup(nqubits, bitint)\n",
        "\n",
        "## ゲートとか\n",
        "Hadamard = QuantumCircuit(nqubits)\n",
        "Hadamard = h_gate(nqubits, Hadamard)\n",
        "U_w= take_U_w(nqubits, s, bitlist)\n",
        "U_s = take_U_s(nqubits)\n",
        "\n",
        "result = []\n",
        "quantum_list = []\n",
        "\n",
        "state = quantum_setup(nqubits)\n",
        "Hadamard.update_quantum_state(state)\n",
        "\n",
        "## とりあえず30回繰り返す\n",
        "# 繰り返し回数を変えたい場合は、 \n",
        "# range(30) と plt.plot(np.arange(1, 30+1).... の「30」を任意の数字に書き換えてください\n",
        "for k in range(30):\n",
        "    U_w.update_quantum_state(state)\n",
        "    U_s.update_quantum_state(state)\n",
        "    print(str(k+1))\n",
        "    show_distribution(state,nqubits)\n",
        "    result.append(np.linalg.norm(inner_product(state, answer_state)))\n",
        "    test = state.copy()\n",
        "    quantum_list.append(test.get_vector())\n",
        "\n",
        "## 一番確率が高かった時の 添え字k と 正解である確率 を出力\n",
        "max_k = np.argmax(result)\n",
        "print( f\"maximal probability {result[max_k]:5e} is obtained at k = {max_k+1}\")\n",
        "plt.plot(np.arange(1, 30+1), result, \"o-\")\n",
        "\n",
        "## 予想できたパスワードを二進数や文字列に変換します\n",
        "# print(max(quantum_list[max_k]))\n",
        "pswd = []\n",
        "c = 0\n",
        "## 二進数変換したり文字列に直したり\n",
        "grover_answer = str(format(np.argmax(quantum_list[max_k]),'08b'))\n",
        "if len(passlen) == 1:\n",
        "    pswd = chr(int('0b'+ grover_answer, 2))\n",
        "else:\n",
        "    for i in range(len(passlen)):\n",
        "        pswd.append(chr(int('0b'+ grover_answer[c:c+i], 2)))\n",
        "    pswd = ''.join(pswd)\n",
        "## 復号化処理\n",
        "rev_bitmessage = quasi_aes(crypto_bitmessage, 1, grover_answer)\n",
        "rev_message = []\n",
        "for i in rev_bitmessage:\n",
        "    rev_message.append(chr(int('0b'+ i, 2)))\n",
        "rev_message = ''.join(rev_message)\n",
        "## 最終的な結果を出力\n",
        "print(\"*\"*50)\n",
        "print(\"予想されるパスワード(bit)： \\\"\" + str(grover_answer) +\"\\\"\")\n",
        "print(\"予想されるパスワード(文字)： \\\"\" + pswd +\"\\\"\")\n",
        "print(\"message(crypto): \\\"\" + crypto_message +\"\\\"\")\n",
        "print(\"復号できた文字列:　\\\"\" + rev_message +\"\\\"\")\n",
        "print(\"*\"*50)"
      ],
      "execution_count": 11,
      "outputs": [
        {
          "output_type": "stream",
          "name": "stdout",
          "text": [
            "**************************************************\n",
            "password: \"L\"\n",
            "message:　\"「平文」が欲しいか？欲しけれりゃくれてやる。解いてみろ。この世の<はじまり>をそこに置いてきた。 by Mr.グローバー\"\n",
            "password(bit):　01001100\n",
            "message(crypto): \"㋪╥჈⶗㉲O÷Sá×SⓁᆎⳗ㏞⑍Ჿ㡏ځ⤲͇\u001e㦍ۛ⤸ʽ\u001a㡅偡㏎④ᄴⵗ㏬␉ᆸ⋶ⱉ㈄◍ᇼⵕ㎌◃ဤⵕ㎰⑫㐇鱝㠏گ⤦ኡᆨⱗ洩⿴ⓝ\"\n",
            "**************************************************\n",
            "1\n"
          ]
        },
        {
          "output_type": "display_data",
          "data": {
            "image/png": "[encoded data removed]",
            "text/plain": [
              "<Figure size 432x288 with 1 Axes>"
            ]
          },
          "metadata": {
            "needs_background": "light"
          }
        },
        {
          "output_type": "stream",
          "name": "stdout",
          "text": [
            "2\n"
          ]
        },
        {
          "output_type": "display_data",
          "data": {
            "image/png": "[encoded data removed]",
            "text/plain": [
              "<Figure size 432x288 with 1 Axes>"
            ]
          },
          "metadata": {
            "needs_background": "light"
          }
        },
        {
          "output_type": "stream",
          "name": "stdout",
          "text": [
            "3\n"
          ]
        },
        {
          "output_type": "display_data",
          "data": {
            "image/png": "[encoded data removed]",
            "text/plain": [
              "<Figure size 432x288 with 1 Axes>"
            ]
          },
          "metadata": {
            "needs_background": "light"
          }
        },
        {
          "output_type": "stream",
          "name": "stdout",
          "text": [
            "4\n"
          ]
        },
        {
          "output_type": "display_data",
          "data": {
            "image/png": "[encoded data removed]",
            "text/plain": [
              "<Figure size 432x288 with 1 Axes>"
            ]
          },
          "metadata": {
            "needs_background": "light"
          }
        },
        {
          "output_type": "stream",
          "name": "stdout",
          "text": [
            "5\n"
          ]
        },
        {
          "output_type": "display_data",
          "data": {
            "image/png": "[encoded data removed]",
            "text/plain": [
              "<Figure size 432x288 with 1 Axes>"
            ]
          },
          "metadata": {
            "needs_background": "light"
          }
        },
        {
          "output_type": "stream",
          "name": "stdout",
          "text": [
            "6\n"
          ]
        },
        {
          "output_type": "display_data",
          "data": {
            "image/png": "[encoded data removed]",
            "text/plain": [
              "<Figure size 432x288 with 1 Axes>"
            ]
          },
          "metadata": {
            "needs_background": "light"
          }
        },
        {
          "output_type": "stream",
          "name": "stdout",
          "text": [
            "7\n"
          ]
        },
        {
          "output_type": "display_data",
          "data": {
            "image/png": "[encoded data removed]",
            "text/plain": [
              "<Figure size 432x288 with 1 Axes>"
            ]
          },
          "metadata": {
            "needs_background": "light"
          }
        },
        {
          "output_type": "stream",
          "name": "stdout",
          "text": [
            "8\n"
          ]
        },
        {
          "output_type": "display_data",
          "data": {
            "image/png": "[encoded data removed]",
            "text/plain": [
              "<Figure size 432x288 with 1 Axes>"
            ]
          },
          "metadata": {
            "needs_background": "light"
          }
        },
        {
          "output_type": "stream",
          "name": "stdout",
          "text": [
            "9\n"
          ]
        },
        {
          "output_type": "display_data",
          "data": {
            "image/png": "[encoded data removed]",
            "text/plain": [
              "<Figure size 432x288 with 1 Axes>"
            ]
          },
          "metadata": {
            "needs_background": "light"
          }
        },
        {
          "output_type": "stream",
          "name": "stdout",
          "text": [
            "10\n"
          ]
        },
        {
          "output_type": "display_data",
          "data": {
            "image/png": "[encoded data removed]",
            "text/plain": [
              "<Figure size 432x288 with 1 Axes>"
            ]
          },
          "metadata": {
            "needs_background": "light"
          }
        },
        {
          "output_type": "stream",
          "name": "stdout",
          "text": [
            "11\n"
          ]
        },
        {
          "output_type": "display_data",
          "data": {
            "image/png": "[encoded data removed]",
            "text/plain": [
              "<Figure size 432x288 with 1 Axes>"
            ]
          },
          "metadata": {
            "needs_background": "light"
          }
        },
        {
          "output_type": "stream",
          "name": "stdout",
          "text": [
            "12\n"
          ]
        },
        {
          "output_type": "display_data",
          "data": {
            "image/png": "[encoded data removed]",
            "text/plain": [
              "<Figure size 432x288 with 1 Axes>"
            ]
          },
          "metadata": {
            "needs_background": "light"
          }
        },
        {
          "output_type": "stream",
          "name": "stdout",
          "text": [
            "13\n"
          ]
        },
        {
          "output_type": "display_data",
          "data": {
            "image/png": "[encoded data removed]",
            "text/plain": [
              "<Figure size 432x288 with 1 Axes>"
            ]
          },
          "metadata": {
            "needs_background": "light"
          }
        },
        {
          "output_type": "stream",
          "name": "stdout",
          "text": [
            "14\n"
          ]
        },
        {
          "output_type": "display_data",
          "data": {
            "image/png": "[encoded data removed]",
            "text/plain": [
              "<Figure size 432x288 with 1 Axes>"
            ]
          },
          "metadata": {
            "needs_background": "light"
          }
        },
        {
          "output_type": "stream",
          "name": "stdout",
          "text": [
            "15\n"
          ]
        },
        {
          "output_type": "display_data",
          "data": {
            "image/png": "[encoded data removed]",
            "text/plain": [
              "<Figure size 432x288 with 1 Axes>"
            ]
          },
          "metadata": {
            "needs_background": "light"
          }
        },
        {
          "output_type": "stream",
          "name": "stdout",
          "text": [
            "16\n"
          ]
        },
        {
          "output_type": "display_data",
          "data": {
            "image/png": "[encoded data removed]",
            "text/plain": [
              "<Figure size 432x288 with 1 Axes>"
            ]
          },
          "metadata": {
            "needs_background": "light"
          }
        },
        {
          "output_type": "stream",
          "name": "stdout",
          "text": [
            "17\n"
          ]
        },
        {
          "output_type": "display_data",
          "data": {
            "image/png": "[encoded data removed]",
            "text/plain": [
              "<Figure size 432x288 with 1 Axes>"
            ]
          },
          "metadata": {
            "needs_background": "light"
          }
        },
        {
          "output_type": "stream",
          "name": "stdout",
          "text": [
            "18\n"
          ]
        },
        {
          "output_type": "display_data",
          "data": {
            "image/png": "[encoded data removed]",
            "text/plain": [
              "<Figure size 432x288 with 1 Axes>"
            ]
          },
          "metadata": {
            "needs_background": "light"
          }
        },
        {
          "output_type": "stream",
          "name": "stdout",
          "text": [
            "19\n"
          ]
        },
        {
          "output_type": "display_data",
          "data": {
            "image/png": "[encoded data removed]",
            "text/plain": [
              "<Figure size 432x288 with 1 Axes>"
            ]
          },
          "metadata": {
            "needs_background": "light"
          }
        },
        {
          "output_type": "stream",
          "name": "stdout",
          "text": [
            "20\n"
          ]
        },
        {
          "output_type": "display_data",
          "data": {
            "image/png": "[encoded data removed]",
            "text/plain": [
              "<Figure size 432x288 with 1 Axes>"
            ]
          },
          "metadata": {
            "needs_background": "light"
          }
        },
        {
          "output_type": "stream",
          "name": "stdout",
          "text": [
            "21\n"
          ]
        },
        {
          "output_type": "display_data",
          "data": {
            "image/png": "[encoded data removed]",
            "text/plain": [
              "<Figure size 432x288 with 1 Axes>"
            ]
          },
          "metadata": {
            "needs_background": "light"
          }
        },
        {
          "output_type": "stream",
          "name": "stdout",
          "text": [
            "22\n"
          ]
        },
        {
          "output_type": "display_data",
          "data": {
            "image/png": "[encoded data removed]",
            "text/plain": [
              "<Figure size 432x288 with 1 Axes>"
            ]
          },
          "metadata": {
            "needs_background": "light"
          }
        },
        {
          "output_type": "stream",
          "name": "stdout",
          "text": [
            "23\n"
          ]
        },
        {
          "output_type": "display_data",
          "data": {
            "image/png": "[encoded data removed]",
            "text/plain": [
              "<Figure size 432x288 with 1 Axes>"
            ]
          },
          "metadata": {
            "needs_background": "light"
          }
        },
        {
          "output_type": "stream",
          "name": "stdout",
          "text": [
            "24\n"
          ]
        },
        {
          "output_type": "display_data",
          "data": {
            "image/png": "[encoded data removed]",
            "text/plain": [
              "<Figure size 432x288 with 1 Axes>"
            ]
          },
          "metadata": {
            "needs_background": "light"
          }
        },
        {
          "output_type": "stream",
          "name": "stdout",
          "text": [
            "25\n"
          ]
        },
        {
          "output_type": "display_data",
          "data": {
            "image/png": "[encoded data removed]",
            "text/plain": [
              "<Figure size 432x288 with 1 Axes>"
            ]
          },
          "metadata": {
            "needs_background": "light"
          }
        },
        {
          "output_type": "stream",
          "name": "stdout",
          "text": [
            "26\n"
          ]
        },
        {
          "output_type": "display_data",
          "data": {
            "image/png": "[encoded data removed]",
            "text/plain": [
              "<Figure size 432x288 with 1 Axes>"
            ]
          },
          "metadata": {
            "needs_background": "light"
          }
        },
        {
          "output_type": "stream",
          "name": "stdout",
          "text": [
            "27\n"
          ]
        },
        {
          "output_type": "display_data",
          "data": {
            "image/png": "[encoded data removed]",
            "text/plain": [
              "<Figure size 432x288 with 1 Axes>"
            ]
          },
          "metadata": {
            "needs_background": "light"
          }
        },
        {
          "output_type": "stream",
          "name": "stdout",
          "text": [
            "28\n"
          ]
        },
        {
          "output_type": "display_data",
          "data": {
            "image/png": "[encoded data removed]",
            "text/plain": [
              "<Figure size 432x288 with 1 Axes>"
            ]
          },
          "metadata": {
            "needs_background": "light"
          }
        },
        {
          "output_type": "stream",
          "name": "stdout",
          "text": [
            "29\n"
          ]
        },
        {
          "output_type": "display_data",
          "data": {
            "image/png": "[encoded data removed]",
            "text/plain": [
              "<Figure size 432x288 with 1 Axes>"
            ]
          },
          "metadata": {
            "needs_background": "light"
          }
        },
        {
          "output_type": "stream",
          "name": "stdout",
          "text": [
            "30\n"
          ]
        },
        {
          "output_type": "display_data",
          "data": {
            "image/png": "[encoded data removed]",
            "text/plain": [
              "<Figure size 432x288 with 1 Axes>"
            ]
          },
          "metadata": {
            "needs_background": "light"
          }
        },
        {
          "output_type": "stream",
          "name": "stdout",
          "text": [
            "maximal probability 9.999735e-01 is obtained at k = 12\n",
            "**************************************************\n",
            "予想されるパスワード(bit)： \"01001100\"\n",
            "予想されるパスワード(文字)： \"L\"\n",
            "message(crypto): \"㋪╥჈⶗㉲O÷Sá×SⓁᆎⳗ㏞⑍Ჿ㡏ځ⤲͇\u001e㦍ۛ⤸ʽ\u001a㡅偡㏎④ᄴⵗ㏬␉ᆸ⋶ⱉ㈄◍ᇼⵕ㎌◃ဤⵕ㎰⑫㐇鱝㠏گ⤦ኡᆨⱗ洩⿴ⓝ\"\n",
            "復号できた文字列:　\"「平文」が欲しいか？欲しけれりゃくれてやる。解いてみろ。この世の<はじまり>をそこに置いてきた。 by Mr.グローバー\"\n",
            "**************************************************\n"
          ]
        },
        {
          "output_type": "display_data",
          "data": {
            "image/png": "[encoded data removed]",
            "text/plain": [
              "<Figure size 432x288 with 1 Axes>"
            ]
          },
          "metadata": {
            "needs_background": "light"
          }
        }
      ]
    },
    {
      "cell_type": "markdown",
      "metadata": {
        "id": "UH6goj10I3-a"
      },
      "source": [
        "<font color= \"#5e5\">\n",
        "----------------------------------------------------------------------------------------------------------------------------------------------------------------\n",
        "</font>"
      ]
    },
    {
      "cell_type": "markdown",
      "metadata": {
        "id": "KRKveA0EtwdB"
      },
      "source": [
        "## <font color= \"#5e5\">さいごに</font>"
      ]
    },
    {
      "cell_type": "markdown",
      "metadata": {
        "id": "vKn7pbllt6HZ"
      },
      "source": [
        "いかがでしたでしょうか。  \n",
        "初めてこのアルゴリズムを知ったときは、衝撃的でしたね。  \n",
        "私は実際に実装してみて、より鮮明にアルゴリズムを理解できたと自負しております。  \n",
        "皆さんも、もしよろしければ、ぜひ実装にチャレンジしても見てはいかがでしょうか。  \n",
        "~~ただ単に筆者が見たいだけですが、~~理解の一助となることは間違いありません。\n",
        "\n",
        "どうして、なぜそうなるのか、などの質問には答えかねますが、  \n",
        "この実装を見て、何かヒントのようなものが得ることがあれば、  \n",
        "筆者も大変喜ばしい限りです。  \n",
        "\n",
        "では、また、どこかで。Good Luck."
      ]
    },
    {
      "cell_type": "markdown",
      "metadata": {
        "id": "QdGjXAAxtybB"
      },
      "source": [
        "<font color= \"#5e5\">\n",
        "----------------------------------------------------------------------------------------------------------------------------------------------------------------\n",
        "</font>"
      ]
    },
    {
      "cell_type": "markdown",
      "metadata": {
        "id": "y5KRwrv2yUmx"
      },
      "source": [
        "公開：2021/09/14"
      ]
    }
  ]
}